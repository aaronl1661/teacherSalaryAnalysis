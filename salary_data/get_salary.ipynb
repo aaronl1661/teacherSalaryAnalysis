{
 "cells": [
  {
   "cell_type": "code",
   "execution_count": 9,
   "metadata": {},
   "outputs": [
    {
     "name": "stdout",
     "output_type": "stream",
     "text": [
      "year 2013 finished\n",
      "year 2014 finished\n",
      "year 2015 finished\n",
      "year 2016 finished\n",
      "year 2017 finished\n",
      "year 2018 finished\n",
      "year 2019 finished\n",
      "year 2020 finished\n",
      "year 2021 finished\n",
      "year 2022 finished\n"
     ]
    }
   ],
   "source": [
    "import requests\n",
    "import json\n",
    "from bs4 import BeautifulSoup\n",
    "import pandas as pd\n",
    "\n",
    "# get years that api is valid for\n",
    "r_years = requests.get(\"https://api.dbknews.com/salary/years\")\n",
    "years = r_years.json()[\"data\"]\n",
    "\n",
    "df = pd.DataFrame()\n",
    "\n",
    "# for each year, get salary data\n",
    "for year in years:\n",
    "    r = requests.get(f\"https://api.dbknews.com/salary/year/{year}\")\n",
    "\n",
    "    # number of faculty\n",
    "    count = r.json()[\"count\"]\n",
    "    year_df = pd.DataFrame()\n",
    "    page = 0\n",
    "\n",
    "    while page * 10 < count:\n",
    "        page += 1\n",
    "\n",
    "        # get salary data for 1 page\n",
    "        r = requests.get(f\"https://api.dbknews.com/salary/year/{year}?page={page}\")\n",
    "        page_df = pd.DataFrame.from_dict(r.json()[\"data\"])\n",
    "\n",
    "        # remove division and title columns, modify department col, and add year\n",
    "        page_df = page_df.drop(['Division', \"Title\"], axis=1)\n",
    "        page_df[\"Department\"] = page_df[\"Department\"].str.slice(stop=4)\n",
    "        page_df[\"year\"] = [f\"{year}\"] * len(page_df.index)\n",
    "        year_df = pd.concat([year_df, page_df], axis=0)\n",
    "\n",
    "    print(f\"year {year} finished\")\n",
    "    year_df.to_csv(f'{year}data.csv', index=False)\n"
   ]
  }
 ],
 "metadata": {
  "kernelspec": {
   "display_name": "venv",
   "language": "python",
   "name": "python3"
  },
  "language_info": {
   "codemirror_mode": {
    "name": "ipython",
    "version": 3
   },
   "file_extension": ".py",
   "mimetype": "text/x-python",
   "name": "python",
   "nbconvert_exporter": "python",
   "pygments_lexer": "ipython3",
   "version": "3.10.4"
  },
  "orig_nbformat": 4
 },
 "nbformat": 4,
 "nbformat_minor": 2
}
