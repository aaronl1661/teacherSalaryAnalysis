{
 "cells": [
  {
   "cell_type": "code",
   "execution_count": 54,
   "id": "89731dd5-f636-422c-8ac6-c2ffeb03b7d5",
   "metadata": {},
   "outputs": [],
   "source": [
    "import pandas as pd\n",
    "import matplotlib.pyplot as plt\n",
    "import numpy as np\n",
    "import json\n",
    "import ast\n",
    "import requests\n",
    "from bs4 import BeautifulSoup"
   ]
  },
  {
   "cell_type": "code",
   "execution_count": 61,
   "id": "5354b10d-4ce7-446f-8b3c-d8a5e4da1dfc",
   "metadata": {},
   "outputs": [],
   "source": [
    "df = pd.read_csv('../2_clean_data/combined_data.csv')"
   ]
  },
  {
   "cell_type": "code",
   "execution_count": 62,
   "id": "95f8df32-a64f-434b-a430-6b0186babe08",
   "metadata": {},
   "outputs": [],
   "source": [
    "#Columns with lists are represented as strings, so this is converting them into list/np.array types\n",
    "\n",
    "for index, row in df.iterrows():\n",
    "    df.iloc[index]['salaries'] = ast.literal_eval(df.iloc[index]['salaries'])\n",
    "    df.iloc[index]['semester'] = ast.literal_eval(df.iloc[index]['semester'])\n",
    "    df.iloc[index]['years_taught'] = ast.literal_eval(df.iloc[index]['years_taught'])\n",
    "    df.iloc[index]['course'] = ast.literal_eval(df.iloc[index]['course'])\n",
    "    df.iloc[index]['average_rating'] = np.fromstring(df.iloc[index]['average_rating'].strip(\"[]\"), sep=',')\n",
    "    df.iloc[index]['num_reviews'] = np.fromstring(df.iloc[index]['num_reviews'].strip(\"[]\"), sep=',')\n",
    "    df.iloc[index]['average_gpa'] = np.fromstring(df.iloc[index]['average_gpa'].strip(\"[]\"), sep=',')\n",
    "    df.iloc[index]['num_students'] = ast.literal_eval(df.iloc[index]['num_students'])"
   ]
  },
  {
   "cell_type": "code",
   "execution_count": 63,
   "id": "93ed381d-0147-4c7c-94e9-e84702896012",
   "metadata": {},
   "outputs": [],
   "source": [
    "df = df.explode(['course', 'semester', 'average_rating', 'num_reviews', 'average_gpa', 'num_students'])"
   ]
  },
  {
   "cell_type": "code",
   "execution_count": 64,
   "id": "83e97462-1fce-43c2-bead-dac5e1f1bc26",
   "metadata": {},
   "outputs": [
    {
     "name": "stdout",
     "output_type": "stream",
     "text": [
      "['PSYC' 'ASTR' 'CMSC' 'ECON' 'HESI' 'EDHI' 'COMM' 'INST' 'ENAE' 'ENME'\n",
      " 'ENMA' 'ENRE' 'ARTH' 'PHYS' 'STAT' 'ENGL' 'PHSC' 'ANTH' 'BIOE' 'GEMS'\n",
      " 'MATH' 'BMGT' 'BULM' 'CMLT' 'GERM' 'JWST' 'ISRL' 'BUSO' 'DANC' 'ARHU'\n",
      " 'TDPS' 'UNIV' 'ENEE' 'PERS' 'ARAB' 'ENCE' 'HIST' 'HACS' 'CCJS' 'GEOL'\n",
      " 'FIRE' 'SOCY' 'CPSD' 'CPSP' 'PLCY' 'AASP' 'HNUH' 'WMST' 'BUFN' 'BUSI'\n",
      " 'ENTS' 'MSML' 'HONR' 'PUAF' 'JOUR' 'PHIL' 'LING' 'BSCI' 'BIOL' 'AOSC'\n",
      " 'HDCC' 'LGBT' 'EDHD' 'EDUC' 'TLTC' 'EDMS' 'CHEM' 'CPMS' 'ENES' 'HESP'\n",
      " 'HEBR' 'GEOG' 'LARC' 'EDCP' 'IDEA' 'FMSC' 'NEUR' 'MIEH' 'BUMK' 'ENST'\n",
      " 'ANSC' 'INAG' 'CHBE' 'ENCH' 'SPAN' 'PORT' 'USLT' 'SLLC' 'ENTM' 'BUSM'\n",
      " 'FREN' 'AMST' 'KNES' 'MLSC' 'THET' 'CHIN' 'EALL' 'BUMO' 'EDCI' 'TLPL'\n",
      " 'ENPM' 'AREC' 'BISI' 'CBMG' 'ENSP' 'GVPT' 'PHPE' 'ENNU' 'HLSA' 'HLTH'\n",
      " 'BSOS' 'SPHL' 'BUDT' 'CHSE' 'HHUM' 'CPSF' 'LBSC' 'AAST' 'BCHM' 'EPIB'\n",
      " 'ARTT' 'BUAC' 'HLSC' 'CLFS' 'SMLP' 'HLMN' 'MLAW' 'SURV' 'AGNR' 'PLSC'\n",
      " 'EDPS' 'EDSP' 'ENFP' 'INFM' 'UMEI' 'BEES' 'AMSC' 'EMBA' 'CLAS' 'LATN'\n",
      " 'IMMR' 'BIOM' 'URSP' 'CHPH' 'CPBE' 'NACS' 'MUSC' 'MUED' 'IMDM' 'CINE'\n",
      " 'FILM' 'NFSC' 'ENSE' 'CPSS' 'AGST' 'DATA' 'RUSS' 'ARCH' 'CPGH' 'RELS'\n",
      " 'BSST' 'WGSS' 'CPJT' 'JAPN' 'ITAL' 'MUET' 'LACS' 'GREK' 'LASC' 'BSGC'\n",
      " 'CPSA' 'RDEV' 'BSCV' 'CPSN' 'HGLO' 'HEIP' 'BIPH' 'PEER' 'ENEB' 'BMSO'\n",
      " 'CPSG' 'HBUS' 'CONS' 'CPPL' 'ENBC' 'SLAA' 'CPET' 'VMSC' 'KORA' 'MEES']\n",
      "190\n"
     ]
    }
   ],
   "source": [
    "#Unique departments (first 4 letters of course)\n",
    "\n",
    "uniqueCourses = df['course'].str[0:4].unique()\n",
    "\n",
    "print(df['course'].str[0:4].unique())\n",
    "print(len(df['course'].str[0:4].unique()))"
   ]
  },
  {
   "cell_type": "code",
   "execution_count": 65,
   "id": "dd29d410-b771-4c5f-9610-fc3121f10d1e",
   "metadata": {},
   "outputs": [],
   "source": [
    "#Get full names for each department\n",
    "\n",
    "code_fullname_dict = {}\n",
    "\n",
    "undergrad_majors = requests.get(\"https://academiccatalog.umd.edu/undergraduate/approved-courses/\")\n",
    "undergrad_majors_soup = BeautifulSoup(undergrad_majors.text, 'html.parser')\n",
    "\n",
    "for major in undergrad_majors_soup.find(id=\"/undergraduate/approved-courses/\").find_all(\"li\"):\n",
    "    majorInfo = major.text.replace('\\u200b', '').split(' - ')\n",
    "    code_fullname_dict[majorInfo[0]] = majorInfo[1].strip()\n",
    "    \n",
    "grad_majors = requests.get(\"https://academiccatalog.umd.edu/graduate/courses/\")\n",
    "grad_majors_soup = BeautifulSoup(grad_majors.text, 'html.parser')\n",
    "\n",
    "for major in grad_majors_soup.find(id=\"/graduate/courses/\").find_all(\"li\"):\n",
    "    majorInfo = major.text.replace('\\u200b', '').split(' - ')\n",
    "    if majorInfo[0] not in code_fullname_dict:\n",
    "        code_fullname_dict[majorInfo[0]] = majorInfo[1].strip()"
   ]
  },
  {
   "cell_type": "code",
   "execution_count": 66,
   "id": "d1324d3e-9b8c-427f-a5be-3a272b863af6",
   "metadata": {},
   "outputs": [
    {
     "name": "stdout",
     "output_type": "stream",
     "text": [
      "BUSO\n",
      "BMSO\n",
      "HBUS\n"
     ]
    }
   ],
   "source": [
    "#Manually add full names for codes that don't have full names yet\n",
    "\n",
    "for code in uniqueCourses:\n",
    "    if code not in code_fullname_dict:\n",
    "        print(code)\n",
    "\n",
    "code_fullname_dict['BUSO'] = 'Online MBA Program'\n",
    "code_fullname_dict['BMSO'] = 'Online MS in Business Analytics'\n",
    "code_fullname_dict['HBUS'] = \"Interdisciplinary Business Honors\""
   ]
  },
  {
   "cell_type": "code",
   "execution_count": 67,
   "id": "cb069361-4344-4120-a0a0-6282442fdcf2",
   "metadata": {},
   "outputs": [],
   "source": [
    "#get colleges for some grad school majors\n",
    "\n",
    "final_code_to_school = {}\n",
    "\n",
    "gradMajorsSchools = requests.get(\"https://gradschool.umd.edu/admissions/programs-a-to-z\")\n",
    "gradMajorsSchools_soup = BeautifulSoup(gradMajorsSchools.text, 'html.parser')\n",
    "\n",
    "for row in gradMajorsSchools_soup.find_all(\"table\")[1].find_all(\"tr\"):\n",
    "    if len(row.find_all(\"strong\")) == 0:\n",
    "        final_code_to_school[row.find_all(\"td\")[1].text] = row.find_all(\"td\")[2].text"
   ]
  },
  {
   "cell_type": "code",
   "execution_count": 68,
   "id": "27edc8ed-c713-448a-a661-e1492209cfe1",
   "metadata": {},
   "outputs": [],
   "source": [
    "#Get majors under each school\n",
    "\n",
    "majors_schools = {}\n",
    "\n",
    "schools = requests.get(\"https://academiccatalog.umd.edu/undergraduate/colleges-schools/\")\n",
    "schools_soup =  BeautifulSoup(schools.text, 'html.parser')\n",
    "\n",
    "links_to_schools = {}\n",
    "\n",
    "for schools in schools_soup.find_all(id=\"/undergraduate/colleges-schools/\"):\n",
    "    for majors in schools.find_all(\"li\"):\n",
    "        if majors.find(\"a\").get(\"href\").count(\"/\") == 4:\n",
    "            links_to_schools[majors.find(\"a\").text] = majors.find(\"a\").get(\"href\")\n",
    "\n",
    "\n",
    "for school in links_to_schools:\n",
    "    majors = requests.get(\"https://academiccatalog.umd.edu\" + links_to_schools[school] + \"#degreeprogramstext\")\n",
    "    majors_soup = BeautifulSoup(majors.text, 'html.parser')\n",
    "\n",
    "    if (len(majors_soup.find_all(id='degreeprogramstextcontainer')) == 0): #Journalism school and office of undergraduate studies\n",
    "        for section in majors_soup.find_all(id='programstextcontainer'):\n",
    "            for program in section.find_all(\"ul\")[0]:\n",
    "                majors_schools[program.text] = school\n",
    "    else:\n",
    "        for section in majors_soup.find_all(id='degreeprogramstextcontainer'):\n",
    "            for program in section.find_all(\"li\"):\n",
    "                majors_schools[program.text] = school"
   ]
  },
  {
   "cell_type": "code",
   "execution_count": 69,
   "id": "2b28c466-aa5a-4836-9726-b746c37d2f3f",
   "metadata": {},
   "outputs": [],
   "source": [
    "#Rename long college names to short version\n",
    "\n",
    "def rename_colleges(dictionary):\n",
    "    for code in dictionary.keys():\n",
    "        if 'business' in dictionary[code].lower():\n",
    "            dictionary[code] = 'BMGT' #'Robert H. Smith School of Business'\n",
    "        elif 'engineering' in dictionary[code].lower():\n",
    "            dictionary[code] = 'ENGR' #'A. James Clark School of Engineering'\n",
    "        elif 'information studies' in dictionary[code].lower():\n",
    "            dictionary[code] = 'INFO' #'College of Information Studies'\n",
    "        elif 'computer' in dictionary[code].lower():\n",
    "            dictionary[code] = 'CMNS' #'College of Computer, Mathematical, and Natural Sciences'\n",
    "        elif 'arts' in dictionary[code].lower():\n",
    "            dictionary[code] = 'ARHU'\n",
    "        elif 'behavioral' in dictionary[code].lower():\n",
    "            dictionary[code] = 'BSOS'\n",
    "        elif 'education' in dictionary[code].lower():\n",
    "            dictionary[code] = 'EDUC'\n",
    "        elif 'architecture' in dictionary[code].lower():\n",
    "            dictionary[code] = 'ARCH'\n",
    "        elif 'health' in dictionary[code].lower():\n",
    "            dictionary[code] = 'SPHL'\n",
    "        elif 'agric' in dictionary[code].lower():\n",
    "            dictionary[code] = 'AGNR'\n",
    "        elif 'journalism' in dictionary[code].lower():\n",
    "            dictionary[code] = 'JOUR'\n",
    "        elif 'inter' in dictionary[code].lower():\n",
    "            dictionary[code] = 'Office of Undergraduate Studies'"
   ]
  },
  {
   "cell_type": "code",
   "execution_count": 70,
   "id": "19c5572d-f00b-4a08-99f6-373939735c13",
   "metadata": {},
   "outputs": [],
   "source": [
    "rename_colleges(final_code_to_school)\n",
    "rename_colleges(majors_schools)"
   ]
  },
  {
   "cell_type": "code",
   "execution_count": 71,
   "id": "06ab6a68-f539-44ef-b070-93e9d6cc1476",
   "metadata": {},
   "outputs": [],
   "source": [
    "def find_matching_string(string, string_list):\n",
    "    matches = []\n",
    "    for element in string_list:\n",
    "        if string.lower() in element.lower():\n",
    "            matches.append(element)\n",
    "    return matches"
   ]
  },
  {
   "cell_type": "code",
   "execution_count": 72,
   "id": "4b0e0807-fd58-4756-a6c8-ad8b6e7351c2",
   "metadata": {},
   "outputs": [],
   "source": [
    "#biolog - CMNS\n",
    "#engineer - A James Clark\n",
    "#ed - College of Education\n",
    "#college park scholars/gemstone/honors - Office of Undergraduate Studies\n",
    "#business/MBA - RH Smith\n",
    "#health - School of Public Health\n",
    "#agri - College of Agriculture and Natural Resources\n",
    "#arts - College of Arts and Humanities\n",
    "#lang/Persian/Russian/Spanish/French/Latin/Portuguese/Korean/Germanic Studies/\n",
    "#Italian/Hebrew/Greek/america- College of Arts and Humanities\n",
    "\n",
    "for i in uniqueCourses:\n",
    "    if i not in final_code_to_school:\n",
    "        matches = find_matching_string(code_fullname_dict[i], majors_schools.keys())\n",
    "        if len(matches) > 0:\n",
    "            final_code_to_school[i] = majors_schools[matches[0]]\n",
    "        else: #now will need to match keywords of major name to school\n",
    "            if any(x in code_fullname_dict[i].lower() for x in ['biolog', 'systematics', 'biom', 'machine']):\n",
    "                final_code_to_school[i] = 'CMNS'\n",
    "            elif 'engineer' in code_fullname_dict[i].lower():\n",
    "                final_code_to_school[i] = 'ENGR'\n",
    "            elif any(x in code_fullname_dict[i].lower() for x in ['ed', 'teach']):\n",
    "                final_code_to_school[i] = 'EDUC'\n",
    "            elif any(x in code_fullname_dict[i].lower() for x in ['college park scholars', 'gemstone', 'honors', 'first-year', 'aces', 'civicus', 'design cultures', 'university', 'global', 'maryland']):\n",
    "                final_code_to_school[i] = 'Office of Undergraduate Studies'\n",
    "            elif any(x in code_fullname_dict[i].lower() for x in ['business', 'mba', 'accounting', 'entrepreneur', 'manage', 'decision']):\n",
    "                final_code_to_school[i] = 'BMGT'\n",
    "            elif any(x in code_fullname_dict[i].lower() for x in ['theatre', 'film','lang','latin', 'germanic', 'immigration', 'art', 'gay']):\n",
    "                final_code_to_school[i] = 'ARHU'\n",
    "            elif any(x in code_fullname_dict[i].lower() for x in ['health', 'epid']):\n",
    "                final_code_to_school[i] = 'SPHL'\n",
    "            elif any(x in code_fullname_dict[i].lower() for x in ['behavior', 'law']):\n",
    "                final_code_to_school[i] = 'BSOS'\n",
    "            elif 'information' in code_fullname_dict[i].lower():\n",
    "                final_code_to_school[i] = 'INFO'\n",
    "            elif 'urban' in code_fullname_dict[i].lower(): #architecture\n",
    "                final_code_to_school[i] = 'ARCH'"
   ]
  },
  {
   "cell_type": "code",
   "execution_count": 73,
   "id": "b4b053cc-def3-496d-bc4c-aaaa2124fc56",
   "metadata": {},
   "outputs": [],
   "source": [
    "for i in uniqueCourses:\n",
    "    if i not in final_code_to_school:\n",
    "        print(i)"
   ]
  },
  {
   "cell_type": "code",
   "execution_count": 74,
   "id": "fe7ffd2e-897d-4b05-8ba0-aa0b103393f3",
   "metadata": {},
   "outputs": [],
   "source": [
    "df_code_dept = pd.DataFrame.from_dict(final_code_to_school, orient='index').reset_index(names='Major').rename(columns={0:'Department'})"
   ]
  },
  {
   "cell_type": "code",
   "execution_count": 76,
   "id": "bc57e5b2-7a72-4507-bae3-c2227195602a",
   "metadata": {},
   "outputs": [],
   "source": [
    "df_code_dept.to_csv(\"../2_clean_data/code_departments.csv\", index=False)"
   ]
  },
  {
   "cell_type": "code",
   "execution_count": 77,
   "id": "1b9a2ffd-eb98-4525-b72b-d8cc17edf54a",
   "metadata": {},
   "outputs": [
    {
     "data": {
      "text/html": [
       "<div>\n",
       "<style scoped>\n",
       "    .dataframe tbody tr th:only-of-type {\n",
       "        vertical-align: middle;\n",
       "    }\n",
       "\n",
       "    .dataframe tbody tr th {\n",
       "        vertical-align: top;\n",
       "    }\n",
       "\n",
       "    .dataframe thead th {\n",
       "        text-align: right;\n",
       "    }\n",
       "</style>\n",
       "<table border=\"1\" class=\"dataframe\">\n",
       "  <thead>\n",
       "    <tr style=\"text-align: right;\">\n",
       "      <th></th>\n",
       "      <th>Major</th>\n",
       "      <th>Department</th>\n",
       "    </tr>\n",
       "  </thead>\n",
       "  <tbody>\n",
       "    <tr>\n",
       "      <th>0</th>\n",
       "      <td>BMAC</td>\n",
       "      <td>BMGT</td>\n",
       "    </tr>\n",
       "    <tr>\n",
       "      <th>1</th>\n",
       "      <td>PMAM</td>\n",
       "      <td>ENGR</td>\n",
       "    </tr>\n",
       "    <tr>\n",
       "      <th>2</th>\n",
       "      <td>Z115</td>\n",
       "      <td>ENGR</td>\n",
       "    </tr>\n",
       "    <tr>\n",
       "      <th>3</th>\n",
       "      <td>ENAE</td>\n",
       "      <td>ENGR</td>\n",
       "    </tr>\n",
       "    <tr>\n",
       "      <th>4</th>\n",
       "      <td>PMAE</td>\n",
       "      <td>ENGR</td>\n",
       "    </tr>\n",
       "    <tr>\n",
       "      <th>...</th>\n",
       "      <td>...</td>\n",
       "      <td>...</td>\n",
       "    </tr>\n",
       "    <tr>\n",
       "      <th>417</th>\n",
       "      <td>CPPL</td>\n",
       "      <td>Office of Undergraduate Studies</td>\n",
       "    </tr>\n",
       "    <tr>\n",
       "      <th>418</th>\n",
       "      <td>ENBC</td>\n",
       "      <td>ENGR</td>\n",
       "    </tr>\n",
       "    <tr>\n",
       "      <th>419</th>\n",
       "      <td>SLAA</td>\n",
       "      <td>ARHU</td>\n",
       "    </tr>\n",
       "    <tr>\n",
       "      <th>420</th>\n",
       "      <td>CPET</td>\n",
       "      <td>Office of Undergraduate Studies</td>\n",
       "    </tr>\n",
       "    <tr>\n",
       "      <th>421</th>\n",
       "      <td>KORA</td>\n",
       "      <td>ARHU</td>\n",
       "    </tr>\n",
       "  </tbody>\n",
       "</table>\n",
       "<p>422 rows × 2 columns</p>\n",
       "</div>"
      ],
      "text/plain": [
       "    Major                       Department\n",
       "0    BMAC                             BMGT\n",
       "1    PMAM                             ENGR\n",
       "2    Z115                             ENGR\n",
       "3    ENAE                             ENGR\n",
       "4    PMAE                             ENGR\n",
       "..    ...                              ...\n",
       "417  CPPL  Office of Undergraduate Studies\n",
       "418  ENBC                             ENGR\n",
       "419  SLAA                             ARHU\n",
       "420  CPET  Office of Undergraduate Studies\n",
       "421  KORA                             ARHU\n",
       "\n",
       "[422 rows x 2 columns]"
      ]
     },
     "execution_count": 77,
     "metadata": {},
     "output_type": "execute_result"
    }
   ],
   "source": [
    "df_code_dept"
   ]
  },
  {
   "cell_type": "code",
   "execution_count": null,
   "id": "d1bb29ff-c460-4ffd-9421-fdf729c88da1",
   "metadata": {},
   "outputs": [],
   "source": []
  }
 ],
 "metadata": {
  "kernelspec": {
   "display_name": "Python 3 (ipykernel)",
   "language": "python",
   "name": "python3"
  },
  "language_info": {
   "codemirror_mode": {
    "name": "ipython",
    "version": 3
   },
   "file_extension": ".py",
   "mimetype": "text/x-python",
   "name": "python",
   "nbconvert_exporter": "python",
   "pygments_lexer": "ipython3",
   "version": "3.10.8"
  }
 },
 "nbformat": 4,
 "nbformat_minor": 5
}
