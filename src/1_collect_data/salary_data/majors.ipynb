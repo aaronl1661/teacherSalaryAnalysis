{
 "cells": [
  {
   "cell_type": "code",
   "execution_count": 5,
   "metadata": {},
   "outputs": [],
   "source": [
    "'''with open('majors.txt', 'r') as f:\n",
    "    lines = f.readlines()\n",
    "\n",
    "# Close the file\n",
    "f.close()\n",
    "\n",
    "# Open the file again in write mode and write each line with a space added at 3rd char beginning\n",
    "with open('majors.txt', 'w') as f:\n",
    "    for line in lines:\n",
    "        f.write(line[:4] + \" \" + line[4:])\n",
    "\n",
    "# Close the file\n",
    "f.close()'''"
   ]
  },
  {
   "cell_type": "code",
   "execution_count": 10,
   "metadata": {},
   "outputs": [
    {
     "name": "stdout",
     "output_type": "stream",
     "text": [
      "\n",
      "        College of Agriculture and Natural Resources      \n",
      "\n",
      "        School of Architecture, Planning and Preservation      \n",
      "\n",
      "        College of Arts and Humanities      \n",
      "\n",
      "        College of Behavioral and Social Sciences      \n",
      "\n",
      "        Robert H. Smith School of Business      \n",
      "\n",
      "        College of Computer, Mathematical, and Natural Sciences      \n",
      "\n",
      "        College of Education      \n",
      "\n",
      "        A. James Clark School of Engineering      \n",
      "\n",
      "        College of Information Studies      \n",
      "\n",
      "        Philip Merrill College of Journalism      \n",
      "\n",
      "        School of Public Health      \n",
      "\n",
      "        School of Public Policy      \n",
      "\n",
      "        General      \n"
     ]
    }
   ],
   "source": [
    "import requests\n",
    "from bs4 import BeautifulSoup\n",
    "\n",
    "\n",
    "r = requests.get(\"https://www.admissions.umd.edu/explore/majors\")\n",
    "\n",
    "soup = BeautifulSoup(r.content, 'html.parser')\n",
    "divs = soup.find_all('a', role='button')\n",
    "\n",
    "for div in divs:\n",
    "    print(div.text)\n",
    "\n",
    "divs = soup.find_all('a', role='button')\n",
    "\n",
    "for div in divs:\n",
    "    print(div.text)"
   ]
  }
 ],
 "metadata": {
  "kernelspec": {
   "display_name": "venv",
   "language": "python",
   "name": "python3"
  },
  "language_info": {
   "codemirror_mode": {
    "name": "ipython",
    "version": 3
   },
   "file_extension": ".py",
   "mimetype": "text/x-python",
   "name": "python",
   "nbconvert_exporter": "python",
   "pygments_lexer": "ipython3",
   "version": "3.10.4"
  },
  "orig_nbformat": 4
 },
 "nbformat": 4,
 "nbformat_minor": 2
}
